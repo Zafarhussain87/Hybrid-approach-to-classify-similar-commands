{
 "cells": [
  {
   "cell_type": "code",
   "execution_count": 12,
   "metadata": {},
   "outputs": [],
   "source": [
    "#__author__ = \"Zafar Hussain (University of Helsinki, IVVES Project), Marcin Kowiel (F-Secure)\"\n",
    "from similarity import * #load_similarity_config, load_similarity_matrix, compare_graphs"
   ]
  },
  {
   "cell_type": "code",
   "execution_count": 14,
   "metadata": {},
   "outputs": [],
   "source": [
    "def calc_similarity(cmd1_tags, cmd1_tokens, cmd2_tags, cmd2_tokens, similarity_combinations_dict, wind_comd_sim_ref_columns, wind_comd_sim_ref):\n",
    "    try:\n",
    "        is_similar = \"Similar\" if compare_graphs(\n",
    "            cmd1_tags, cmd1_tokens, cmd2_tags, cmd2_tokens, similarity_combinations_dict, wind_comd_sim_ref_columns, wind_comd_sim_ref\n",
    "        )[2] else \"Different\"\n",
    "    except Exception as err:\n",
    "        print(err)\n",
    "        is_similar = \"error\"\n",
    "    return is_similar\n",
    "\n",
    "\n",
    "def main():\n",
    "    similarity_combinations_dict = load_similarity_config()\n",
    "    wind_comd_sim_ref_columns, wind_comd_sim_ref = load_similarity_matrix()\n",
    "\n",
    "    cmd1_tokens = [\"C:\\\\WINDOWS\\\\system32\\\\svchost.exe \", \"-k\", \"LocalSystemNetworkRestricted\", \"-p\", \"-s\", \"SysMain\"]\n",
    "    cmd1_tags = [\"COMM\", \"FLAG\", \"FLAG_VALUE\", \"FLAG\", \"FLAG\", \"FLAG_VALUE\"]\n",
    "\n",
    "    cmd2_tokens = [\"C:\\\\WINDOWS\\\\system32\\\\svchost.exe \", \"-k\", \"LocalService\", \"-p\", \"-s\", \"WebClient\"]\n",
    "    cmd2_tags = [\"COMM\", \"FLAG\", \"FLAG_VALUE\", \"FLAG\", \"FLAG\", \"FLAG_VALUE\"]\n",
    "\n",
    "    is_similar = calc_similarity(\n",
    "        cmd1_tags,\n",
    "        cmd1_tokens,\n",
    "        cmd2_tags,\n",
    "        cmd2_tokens,\n",
    "        similarity_combinations_dict,\n",
    "        wind_comd_sim_ref_columns,\n",
    "        wind_comd_sim_ref\n",
    "    )\n",
    "\n",
    "    print(\"Model: %s\\n#%s#\\n#%s#\\n\" % (is_similar, cmd1_tokens, cmd2_tokens))\n",
    "\n",
    "\n",
    "if __name__ == '__main__':\n",
    "    main()\n"
   ]
  }
 ],
 "metadata": {
  "kernelspec": {
   "display_name": "Python 3",
   "language": "python",
   "name": "python3"
  },
  "language_info": {
   "codemirror_mode": {
    "name": "ipython",
    "version": 3
   },
   "file_extension": ".py",
   "mimetype": "text/x-python",
   "name": "python",
   "nbconvert_exporter": "python",
   "pygments_lexer": "ipython3",
   "version": "3.7.7"
  }
 },
 "nbformat": 4,
 "nbformat_minor": 4
}
