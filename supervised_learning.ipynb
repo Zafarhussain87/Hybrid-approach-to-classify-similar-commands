{
 "cells": [
  {
   "cell_type": "code",
   "execution_count": 2,
   "metadata": {},
   "outputs": [
    {
     "name": "stderr",
     "output_type": "stream",
     "text": [
      "C:\\Hyapp\\Anaconda3-2019.3\\lib\\site-packages\\numpy\\_distributor_init.py:32: UserWarning: loaded more than 1 DLL from .libs:\n",
      "C:\\Hyapp\\Anaconda3-2019.3\\lib\\site-packages\\numpy\\.libs\\libopenblas.NOIJJG62EMASZI6NYURL6JBKM4EVBGM7.gfortran-win_amd64.dll\n",
      "C:\\Hyapp\\Anaconda3-2019.3\\lib\\site-packages\\numpy\\.libs\\libopenblas.TXA6YQSD3GCQQC22GEQ54J2UDCXDXHWN.gfortran-win_amd64.dll\n",
      "  stacklevel=1)\n"
     ]
    }
   ],
   "source": [
    "import pandas as pd\n",
    "from sklearn.model_selection import train_test_split\n",
    "from sklearn.linear_model import LogisticRegression\n",
    "from sklearn.feature_extraction.text import CountVectorizer,TfidfVectorizer\n",
    "import re\n",
    "import numpy as np\n",
    "from random import randint\n",
    "import matplotlib.pyplot as plt\n",
    "import seaborn as sns\n",
    "sns.set()\n",
    "from sklearn.metrics import matthews_corrcoef\n",
    "import json as json"
   ]
  },
  {
   "cell_type": "code",
   "execution_count": 7,
   "metadata": {},
   "outputs": [],
   "source": [
    "original_df = pd.read_csv('./data/merged_train_data.csv')"
   ]
  },
  {
   "cell_type": "code",
   "execution_count": 8,
   "metadata": {},
   "outputs": [
    {
     "data": {
      "text/plain": [
       "1209214"
      ]
     },
     "execution_count": 8,
     "metadata": {},
     "output_type": "execute_result"
    }
   ],
   "source": [
    "len(original_df)"
   ]
  },
  {
   "cell_type": "code",
   "execution_count": 9,
   "metadata": {},
   "outputs": [
    {
     "data": {
      "text/html": [
       "<div>\n",
       "<style scoped>\n",
       "    .dataframe tbody tr th:only-of-type {\n",
       "        vertical-align: middle;\n",
       "    }\n",
       "\n",
       "    .dataframe tbody tr th {\n",
       "        vertical-align: top;\n",
       "    }\n",
       "\n",
       "    .dataframe thead th {\n",
       "        text-align: right;\n",
       "    }\n",
       "</style>\n",
       "<table border=\"1\" class=\"dataframe\">\n",
       "  <thead>\n",
       "    <tr style=\"text-align: right;\">\n",
       "      <th></th>\n",
       "      <th>comd_one</th>\n",
       "      <th>comd_two</th>\n",
       "      <th>output</th>\n",
       "    </tr>\n",
       "  </thead>\n",
       "  <tbody>\n",
       "    <tr>\n",
       "      <th>0</th>\n",
       "      <td>\"C:\\Windows\\Microsoft.NET\\Framework64\\v4.0.303...</td>\n",
       "      <td>\"LogonUI.exe\" /flags \":\" 0x0 /state0 \":\" 0xa11...</td>\n",
       "      <td>Not-Similar</td>\n",
       "    </tr>\n",
       "    <tr>\n",
       "      <th>1</th>\n",
       "      <td>\"C:\\WINDOWS\\system32\\WindowsPowerShell\\v1.0\\Po...</td>\n",
       "      <td>\"C:\\Windows\\Microsoft.NET\\Framework64\\v4.0.303...</td>\n",
       "      <td>Not-Similar</td>\n",
       "    </tr>\n",
       "    <tr>\n",
       "      <th>2</th>\n",
       "      <td>\"C:\\WINDOWS\\System32\\sihclient.exe\" /cv 7gTB8U...</td>\n",
       "      <td>\"C:\\Windows\\System32\\MsiExec.exe\" /Y \"C:\\WINDO...</td>\n",
       "      <td>Not-Similar</td>\n",
       "    </tr>\n",
       "    <tr>\n",
       "      <th>3</th>\n",
       "      <td>\"C:\\Windows\\Microsoft.NET\\Framework\\v4.0.30319...</td>\n",
       "      <td>\"C:\\WINDOWS\\system32\\WindowsPowerShell\\v1.0\\Po...</td>\n",
       "      <td>Not-Similar</td>\n",
       "    </tr>\n",
       "    <tr>\n",
       "      <th>4</th>\n",
       "      <td>\"C:\\Windows\\Microsoft.NET\\Framework64\\v4.0.303...</td>\n",
       "      <td>\"C:\\Windows\\Microsoft.NET\\Framework64\\v4.0.303...</td>\n",
       "      <td>Similar</td>\n",
       "    </tr>\n",
       "  </tbody>\n",
       "</table>\n",
       "</div>"
      ],
      "text/plain": [
       "                                            comd_one  \\\n",
       "0  \"C:\\Windows\\Microsoft.NET\\Framework64\\v4.0.303...   \n",
       "1  \"C:\\WINDOWS\\system32\\WindowsPowerShell\\v1.0\\Po...   \n",
       "2  \"C:\\WINDOWS\\System32\\sihclient.exe\" /cv 7gTB8U...   \n",
       "3  \"C:\\Windows\\Microsoft.NET\\Framework\\v4.0.30319...   \n",
       "4  \"C:\\Windows\\Microsoft.NET\\Framework64\\v4.0.303...   \n",
       "\n",
       "                                            comd_two       output  \n",
       "0  \"LogonUI.exe\" /flags \":\" 0x0 /state0 \":\" 0xa11...  Not-Similar  \n",
       "1  \"C:\\Windows\\Microsoft.NET\\Framework64\\v4.0.303...  Not-Similar  \n",
       "2  \"C:\\Windows\\System32\\MsiExec.exe\" /Y \"C:\\WINDO...  Not-Similar  \n",
       "3  \"C:\\WINDOWS\\system32\\WindowsPowerShell\\v1.0\\Po...  Not-Similar  \n",
       "4  \"C:\\Windows\\Microsoft.NET\\Framework64\\v4.0.303...      Similar  "
      ]
     },
     "execution_count": 9,
     "metadata": {},
     "output_type": "execute_result"
    }
   ],
   "source": [
    "original_df.head()"
   ]
  },
  {
   "cell_type": "code",
   "execution_count": 10,
   "metadata": {},
   "outputs": [],
   "source": [
    "def tokenize_url(url:str):   \n",
    "    url=url.replace(\"https://www.abc.com/entry/\",\"\")\n",
    "    url=re.sub(\"(\\W|_)+\",\" \",url)\n",
    "    return url"
   ]
  },
  {
   "cell_type": "code",
   "execution_count": 11,
   "metadata": {},
   "outputs": [],
   "source": [
    "def extract_features(df,field,training_data,testing_data, feature_type):\n",
    "    \"\"\"Extract features using different methods\"\"\"\n",
    "    \n",
    "    if \"binary\" in feature_type:\n",
    "        \n",
    "        # BINARY FEATURE REPRESENTATION\n",
    "        cv= CountVectorizer(binary=True, max_df=0.95)\n",
    "        cv.fit_transform(training_data[field].values)\n",
    "        \n",
    "        train_feature_set=cv.transform(training_data[field].values)\n",
    "        test_feature_set=cv.transform(testing_data[field].values)\n",
    "        \n",
    "        return train_feature_set,test_feature_set,cv\n",
    "  \n",
    "    elif \"counts\" in feature_type:\n",
    "        \n",
    "        # COUNT BASED FEATURE REPRESENTATION\n",
    "        cv= CountVectorizer(binary=False, max_df=0.95)\n",
    "        cv.fit_transform(training_data[field].values)\n",
    "        \n",
    "        train_feature_set=cv.transform(training_data[field].values)\n",
    "        test_feature_set=cv.transform(testing_data[field].values)\n",
    "        \n",
    "        return train_feature_set,test_feature_set,cv\n",
    "    \n",
    "    else:    \n",
    "        \n",
    "        # TF-IDF BASED FEATURE REPRESENTATION\n",
    "        tfidf_vectorizer=TfidfVectorizer(use_idf=True)\n",
    "        tfidf_vectorizer.fit_transform(training_data[field].values)\n",
    "        \n",
    "        train_feature_set=tfidf_vectorizer.transform(training_data[field].values)\n",
    "        test_feature_set=tfidf_vectorizer.transform(testing_data[field].values)\n",
    "        \n",
    "        return train_feature_set,test_feature_set,tfidf_vectorizer\n"
   ]
  },
  {
   "cell_type": "code",
   "execution_count": 12,
   "metadata": {},
   "outputs": [],
   "source": [
    "original_df['combined_comds'] = original_df['comd_one'] + ' '+ original_df['comd_two']"
   ]
  },
  {
   "cell_type": "code",
   "execution_count": 13,
   "metadata": {},
   "outputs": [
    {
     "data": {
      "text/plain": [
       "1000000"
      ]
     },
     "execution_count": 13,
     "metadata": {},
     "output_type": "execute_result"
    }
   ],
   "source": [
    "sampled_df = original_df.sample(n =1000000)\n",
    "len(sampled_df)"
   ]
  },
  {
   "cell_type": "code",
   "execution_count": 14,
   "metadata": {},
   "outputs": [],
   "source": [
    "def get_top_k_predictions(model,X_test,k):\n",
    "    \n",
    "    # get probabilities instead of predicted labels, since we want to collect top 3\n",
    "    probs = model.predict_proba(X_test)\n",
    "    \n",
    "\n",
    "    # GET TOP K PREDICTIONS BY PROB - note these are just index\n",
    "    best_n = np.argsort(probs, axis=1)[:,-k:]\n",
    "    \n",
    "    \n",
    "    # GET CATEGORY OF PREDICTIONS\n",
    "    preds=[[model.classes_[predicted_cat] for predicted_cat in prediction] for prediction in best_n]\n",
    "  \n",
    "    preds=[ item[::-1] for item in preds]\n",
    "  \n",
    "    return np.max(probs), preds"
   ]
  },
  {
   "cell_type": "code",
   "execution_count": 15,
   "metadata": {},
   "outputs": [],
   "source": [
    "def _reciprocal_rank(true_labels: list, machine_preds: list):\n",
    "    \"\"\"Compute the reciprocal rank at cutoff k\"\"\"\n",
    "    \n",
    "    # add index to list only if machine predicted label exists in true labels\n",
    "    tp_pos_list = [(idx + 1) for idx, r in enumerate(machine_preds) if r in true_labels]\n",
    "\n",
    "    rr = 0\n",
    "    if len(tp_pos_list) > 0:\n",
    "        # for RR we need position of first correct item\n",
    "        first_pos_list = tp_pos_list[0]\n",
    "        \n",
    "        # rr = 1/rank\n",
    "        rr = 1 / float(first_pos_list)\n",
    "\n",
    "    return rr\n",
    "def compute_mrr_at_k(items:list):\n",
    "    \"\"\"Compute the MRR (average RR) at cutoff k\"\"\"\n",
    "    rr_total = 0\n",
    "    \n",
    "    for item in items:   \n",
    "        rr_at_k = _reciprocal_rank(item[0],item[1])\n",
    "        rr_total = rr_total + rr_at_k\n",
    "        mrr = rr_total / 1/float(len(items))\n",
    "\n",
    "    return mrr\n",
    "\n",
    "def collect_preds(Y_test,Y_preds):\n",
    "    \"\"\"Collect all predictions and ground truth\"\"\"\n",
    "    \n",
    "    pred_gold_list=[[[Y_test[idx]],pred] for idx,pred in enumerate(Y_preds)]\n",
    "    return pred_gold_list\n",
    "             \n",
    "def compute_accuracy(eval_items:list):\n",
    "    correct=0\n",
    "    total=0\n",
    "    \n",
    "    for item in eval_items:\n",
    "        true_pred=item[0]\n",
    "        machine_pred=set(item[1])\n",
    "        \n",
    "        for cat in true_pred:\n",
    "            if cat in machine_pred:\n",
    "                correct+=1\n",
    "                break\n",
    "    \n",
    "    \n",
    "    accuracy=correct/float(len(eval_items))\n",
    "    return accuracy\n"
   ]
  },
  {
   "cell_type": "code",
   "execution_count": 16,
   "metadata": {},
   "outputs": [],
   "source": [
    "def train_model(df,field,feature_rep,top_k):\n",
    "    \n",
    "    \n",
    "    # GET A TRAIN TEST SPLIT (set seed for consistent results)\n",
    "    rand_state=randint(0,100)\n",
    "    training_data, testing_data = train_test_split(df, test_size=0.20, random_state = rand_state)\n",
    "\n",
    "    # GET LABELS\n",
    "    Y_train=training_data['output'].values\n",
    "    Y_test=testing_data['output'].values\n",
    "     \n",
    "    # GET FEATURES\n",
    "    X_train,X_test,feature_transformer=extract_features(df,field,training_data,testing_data,feature_rep)\n",
    "\n",
    "    # INIT LOGISTIC REGRESSION CLASSIFIER\n",
    "    scikit_log_reg = LogisticRegression(solver='saga',random_state=rand_state, C=1.0, penalty='l2',max_iter=100, multi_class='auto')\n",
    "    model=scikit_log_reg.fit(X_train,Y_train)\n",
    "\n",
    "    # GET TOP K PREDICTIONS\n",
    "    probs, preds=get_top_k_predictions(model,X_test,top_k)\n",
    "    \n",
    "    # GET PREDICTED VALUES AND GROUND TRUTH INTO A LIST OF LISTS - for ease of evaluation\n",
    "    eval_items=collect_preds(Y_test,preds)\n",
    "    \n",
    "    # GET EVALUATION NUMBERS ON TEST SET -- HOW DID WE DO?\n",
    " \n",
    "    accuracy=round(compute_accuracy(eval_items),4)\n",
    "    mrr_at_k=round(compute_mrr_at_k(eval_items),4)\n",
    "    \n",
    "    return model,feature_transformer,accuracy,mrr_at_k,testing_data,confusion_matrix(Y_test,preds),matthews_corrcoef(Y_test,preds)\n"
   ]
  },
  {
   "cell_type": "code",
   "execution_count": 17,
   "metadata": {},
   "outputs": [
    {
     "name": "stdout",
     "output_type": "stream",
     "text": [
      "\n",
      "Accuracy=0.9639\n"
     ]
    }
   ],
   "source": [
    "from sklearn.metrics import confusion_matrix\n",
    "field = 'combined_comds'\n",
    "feature_rep='tfidf'\n",
    "top_k=1\n",
    "model,transformer,accuracy,mrr_at_k, testing_data, conf_matr, mcc = train_model(sampled_df,field,feature_rep,top_k)\n",
    "print(\"\\nAccuracy={0}\".format(accuracy))"
   ]
  },
  {
   "cell_type": "code",
   "execution_count": 18,
   "metadata": {},
   "outputs": [
    {
     "data": {
      "text/plain": [
       "array([[141200,     72],\n",
       "       [  7147,  51581]], dtype=int64)"
      ]
     },
     "execution_count": 18,
     "metadata": {},
     "output_type": "execute_result"
    }
   ],
   "source": [
    "conf_matr"
   ]
  },
  {
   "cell_type": "code",
   "execution_count": 14,
   "metadata": {},
   "outputs": [],
   "source": [
    "tn, fp, fn, tp = conf_matr.ravel()"
   ]
  },
  {
   "cell_type": "code",
   "execution_count": 15,
   "metadata": {},
   "outputs": [
    {
     "data": {
      "text/plain": [
       "(141499, 51267)"
      ]
     },
     "execution_count": 15,
     "metadata": {},
     "output_type": "execute_result"
    }
   ],
   "source": [
    "tn, tp"
   ]
  },
  {
   "cell_type": "code",
   "execution_count": 16,
   "metadata": {},
   "outputs": [
    {
     "data": {
      "text/plain": [
       "(7141, 93)"
      ]
     },
     "execution_count": 16,
     "metadata": {},
     "output_type": "execute_result"
    }
   ],
   "source": [
    "fn, fp"
   ]
  },
  {
   "cell_type": "code",
   "execution_count": 17,
   "metadata": {},
   "outputs": [
    {
     "data": {
      "text/plain": [
       "0.9128840784689561"
      ]
     },
     "execution_count": 17,
     "metadata": {},
     "output_type": "execute_result"
    }
   ],
   "source": [
    "mcc"
   ]
  },
  {
   "cell_type": "code",
   "execution_count": 18,
   "metadata": {},
   "outputs": [
    {
     "data": {
      "text/plain": [
       "0.05400000000000005"
      ]
     },
     "execution_count": 18,
     "metadata": {},
     "output_type": "execute_result"
    }
   ],
   "source": [
    "0.913-0.859"
   ]
  },
  {
   "cell_type": "code",
   "execution_count": 19,
   "metadata": {},
   "outputs": [],
   "source": [
    "unseen_df = original_df[~original_df.isin(sampled_df)].dropna()\n",
    "\n",
    "unseen_df = unseen_df.reset_index(drop=True)"
   ]
  },
  {
   "cell_type": "code",
   "execution_count": 34,
   "metadata": {},
   "outputs": [],
   "source": [
    "wrong_predicted =[]\n",
    "\n",
    "wrong_results = []\n",
    "for j in range(100):\n",
    "    total_wrong = 0\n",
    "    for i in range(1000):\n",
    "        unseen_idx = randint(0,len(unseen_df)-1)\n",
    "        orig_output = unseen_df.loc[unseen_idx]['output']\n",
    "        test_features = transformer.transform([unseen_df.loc[unseen_idx]['combined_comds']])\n",
    "        pred_prob, pred_output = get_top_k_predictions(model,test_features,1)\n",
    "        #print(\"\\noriginal value is: {0}; Predicted value is: {1}; with a prob of: {2}\".format(orig_output,pred_output[0][0],pred_prob))\n",
    "        if orig_output!= pred_output[0][0]:\n",
    "            total_wrong+=1\n",
    "            wrong_predicted.append(unseen_idx)\n",
    "    wrong_results.append(total_wrong)"
   ]
  },
  {
   "cell_type": "code",
   "execution_count": 35,
   "metadata": {},
   "outputs": [
    {
     "data": {
      "image/png": "[encoded data removed]",
      "text/plain": [
       "<Figure size 576x360 with 1 Axes>"
      ]
     },
     "metadata": {},
     "output_type": "display_data"
    }
   ],
   "source": [
    "wrong_results_modified = [round(1-(wrong/1000),3) for wrong in wrong_results]\n",
    "wrong_df = pd.DataFrame(wrong_results_modified, columns=['Correct_Ratio'])\n",
    "\n",
    "ax = wrong_df[['Correct_Ratio']].plot( linestyle='-', marker='o', legend=False)\n",
    "wrong_df[['Correct_Ratio']].plot( kind='bar', ax=ax,figsize=(8,5),legend=False)\n",
    "plt.ylim(0.92, 0.99)\n",
    "ax.axes.xaxis.set_visible(False)\n",
    "plt.tight_layout()\n",
    "plt.show()"
   ]
  },
  {
   "cell_type": "code",
   "execution_count": 17,
   "metadata": {},
   "outputs": [],
   "source": [
    "def test_comds(comd_one, comd_two):\n",
    "    new_string = comd_one + comd_two\n",
    "    test_features = transformer.transform([new_string])\n",
    "    pred_prob, pred_output = get_top_k_predictions(model,test_features,1)\n",
    "    #print(\"Predicted class is: {0}; with a probability of: {1}\".format(pred_output[0][0], round(pred_prob,4)))\n",
    "    return pred_output[0][0]"
   ]
  },
  {
   "cell_type": "code",
   "execution_count": 59,
   "metadata": {},
   "outputs": [
    {
     "data": {
      "text/plain": [
       "'Not-Similar'"
      ]
     },
     "execution_count": 59,
     "metadata": {},
     "output_type": "execute_result"
    }
   ],
   "source": [
    "unseen_idx = randint(0,len(unseen_df))\n",
    "test_comds(unseen_df.loc[unseen_idx]['comd_one'], unseen_df.loc[unseen_idx]['comd_two'] )"
   ]
  },
  {
   "cell_type": "code",
   "execution_count": 24,
   "metadata": {},
   "outputs": [
    {
     "data": {
      "text/plain": [
       "('\"LogonUI.exe\" /flags \":\" 0x0 /state0 \":\" 0xad59d855 /state1 \":\" 0x41c64e6d ',\n",
       " '\"c:\\\\WINDOWS\\\\Microsoft.NET\\\\Framework\\\\v4.0.30319\\\\ngen.exe\" install \"Microsoft.Office.Tools.v4.0.Framework, Version=10.0.0.0, Culture=neutral, PublicKeyToken=b03f5f7f11d50a3a\" /queue \":\" 3 /NoDependencies ')"
      ]
     },
     "execution_count": 24,
     "metadata": {},
     "output_type": "execute_result"
    }
   ],
   "source": [
    "unseen_df.loc[unseen_idx]['comd_one'], unseen_df.loc[unseen_idx]['comd_two']"
   ]
  },
  {
   "cell_type": "code",
   "execution_count": 25,
   "metadata": {},
   "outputs": [
    {
     "name": "stdout",
     "output_type": "stream",
     "text": [
      "Predicted class is: Not-Similar; with a probability of: 0.9999\n"
     ]
    }
   ],
   "source": [
    "cmd_one = '\"C:\\\\Windows\\\\Microsoft.NET\\\\Framework\\\\v4.0.30319\\\\ngen.exe\" install \"WindowsBase, Version=4.0.0.0, Culture=neutral, PublicKeyToken=31bf3856ad364e35\" /NoDependencies /noroot /version \":\" v4.0.30319 /LegacyServiceBehavior '\n",
    "cmd_two ='\"C:\\\\Program Files (x86)\\\\MS Office 2016\\\\Office16\\\\POWERPNT.EXE\" \"C:\\\\Users\\\\zhussain\\\\study\\\\internship\\\\Literature Review\\\\deliverable.pptx\" /ou \"\" '\n",
    "test_comds(cmd_one, cmd_two)   "
   ]
  },
  {
   "cell_type": "code",
   "execution_count": 26,
   "metadata": {},
   "outputs": [
    {
     "name": "stdout",
     "output_type": "stream",
     "text": [
      "Predicted class is: Similar; with a probability of: 1.0\n"
     ]
    }
   ],
   "source": [
    "cmd_one = 'change port com12=com1'\n",
    "cmd_two = 'chgport com5=com1'\n",
    "test_comds(cmd_one, cmd_two)"
   ]
  },
  {
   "cell_type": "code",
   "execution_count": 27,
   "metadata": {},
   "outputs": [
    {
     "name": "stdout",
     "output_type": "stream",
     "text": [
      "Predicted class is: Similar; with a probability of: 1.0\n"
     ]
    }
   ],
   "source": [
    "cmd_one = 'query user user /server:Server64'\n",
    "cmd_two =  'quser user /server:Server99'\n",
    "test_comds(cmd_one, cmd_two)"
   ]
  },
  {
   "cell_type": "code",
   "execution_count": 28,
   "metadata": {},
   "outputs": [
    {
     "name": "stdout",
     "output_type": "stream",
     "text": [
      "Predicted class is: Similar; with a probability of: 1.0\n"
     ]
    }
   ],
   "source": [
    "cmd_one = 'ftp> send d:\\web2\\script.py'\n",
    "cmd_two = 'ftp> put d:\\web1\\script.txt'\n",
    "test_comds(cmd_one, cmd_two)"
   ]
  },
  {
   "cell_type": "code",
   "execution_count": 29,
   "metadata": {},
   "outputs": [
    {
     "name": "stdout",
     "output_type": "stream",
     "text": [
      "Predicted class is: Similar; with a probability of: 1.0\n"
     ]
    }
   ],
   "source": [
    "cmd_one = 'ftp>get remote_file.py [local_file.py]'\n",
    "cmd_two = 'ftp>recv remote_file.py [local_file.py]'\n",
    "test_comds(cmd_one, cmd_two)"
   ]
  },
  {
   "cell_type": "code",
   "execution_count": 30,
   "metadata": {},
   "outputs": [
    {
     "name": "stdout",
     "output_type": "stream",
     "text": [
      "Predicted class is: Similar; with a probability of: 1.0\n"
     ]
    }
   ],
   "source": [
    "cmd_one = 'Fc /a File1.txt File2.txt'\n",
    "cmd_two = 'Fc /a python_file1.py image_file2.jpeg'\n",
    "test_comds(cmd_one, cmd_two)"
   ]
  },
  {
   "cell_type": "code",
   "execution_count": 31,
   "metadata": {},
   "outputs": [
    {
     "name": "stdout",
     "output_type": "stream",
     "text": [
      "Predicted class is: Similar; with a probability of: 1.0\n"
     ]
    }
   ],
   "source": [
    "cmd_one = 'chkdsk /f /r /x /b c'\n",
    "cmd_two = 'chkdsk /f /r /x /b d'\n",
    "test_comds(cmd_one, cmd_two)"
   ]
  },
  {
   "cell_type": "code",
   "execution_count": 32,
   "metadata": {},
   "outputs": [
    {
     "name": "stdout",
     "output_type": "stream",
     "text": [
      "Predicted class is: Similar; with a probability of: 1.0\n"
     ]
    }
   ],
   "source": [
    "cmd_one = 'repair-bde <root> <target> -rk | rp <root>'\n",
    "cmd_two = 'repair-bde c: d: -rk e:\\restore.bek'\n",
    "test_comds(cmd_one, cmd_two)"
   ]
  },
  {
   "cell_type": "code",
   "execution_count": 33,
   "metadata": {},
   "outputs": [
    {
     "name": "stdout",
     "output_type": "stream",
     "text": [
      "Predicted class is: Similar; with a probability of: 1.0\n"
     ]
    }
   ],
   "source": [
    "cmd_one = 'repair-bde <root> <target> -rk | rp <root>'\n",
    "cmd_two = 'empty string'\n",
    "test_comds(cmd_one, cmd_two)"
   ]
  },
  {
   "cell_type": "code",
   "execution_count": 34,
   "metadata": {},
   "outputs": [
    {
     "name": "stdout",
     "output_type": "stream",
     "text": [
      "Predicted class is: Not-Similar; with a probability of: 0.9953\n"
     ]
    }
   ],
   "source": [
    "cmd_one = 'git.exe commit -m test'\n",
    "cmd_two = 'git.exe commit -m \"test\"'\n",
    "test_comds(cmd_one, cmd_two)"
   ]
  },
  {
   "cell_type": "code",
   "execution_count": 22,
   "metadata": {},
   "outputs": [],
   "source": [
    "with open('./dl_sentence_pair.txt', 'r') as wind_file:\n",
    "        sen_pair =json.load(wind_file)"
   ]
  },
  {
   "cell_type": "code",
   "execution_count": 23,
   "metadata": {},
   "outputs": [],
   "source": [
    "with open('./dl_binary.txt', 'r') as wind_file:\n",
    "        dl_binary =json.load(wind_file)"
   ]
  },
  {
   "cell_type": "code",
   "execution_count": 37,
   "metadata": {},
   "outputs": [
    {
     "data": {
      "text/plain": [
       "(100, 100)"
      ]
     },
     "execution_count": 37,
     "metadata": {},
     "output_type": "execute_result"
    }
   ],
   "source": [
    "len(sen_pair), len(dl_binary)"
   ]
  },
  {
   "cell_type": "code",
   "execution_count": 36,
   "metadata": {},
   "outputs": [
    {
     "data": {
      "image/png": "[encoded data removed]",
      "text/plain": [
       "<Figure size 576x360 with 1 Axes>"
      ]
     },
     "metadata": {},
     "output_type": "display_data"
    }
   ],
   "source": [
    "sen_pair_modified = [round(1-(wrong/1000),3) for wrong in sen_pair]\n",
    "sen_pair_df = pd.DataFrame(sen_pair_modified, columns=['Correct_Ratio'])\n",
    "dl_binary_modified = [round(1-(wrong/1000),3) for wrong in dl_binary]\n",
    "dl_binary_df = pd.DataFrame(dl_binary_modified, columns=['Correct_Ratio'])\n",
    "\n",
    "ax = sen_pair_df[['Correct_Ratio']].plot( kind='line', marker='o', figsize=(8,5),legend=False)\n",
    "dl_binary_df[['Correct_Ratio']].plot( kind='line', marker='o', figsize=(8,5),ax=ax,legend=False)\n",
    "wrong_df[['Correct_Ratio']].plot( kind='line', marker='o', ax=ax,figsize=(8,5),legend=False)\n",
    "plt.ylim(0.9, 1.01)\n",
    "ax.axes.xaxis.set_visible(False)\n",
    "plt.tight_layout()\n",
    "plt.show()"
   ]
  },
  {
   "cell_type": "code",
   "execution_count": 37,
   "metadata": {},
   "outputs": [],
   "source": [
    "baseline_df = wrong_df.rename(columns = {'Correct_Ratio': 'Baseline_Correct_Ratio'})\n",
    "\n",
    "sen_pair_df = sen_pair_df.rename(columns={'Correct_Ratio': 'DL_Sen_Pair_Correct_Ratio'})\n",
    "dl_binary_df = dl_binary_df.rename(columns = {'Correct_Ratio': 'DL_Binary_Correct_Ratio'})"
   ]
  },
  {
   "cell_type": "code",
   "execution_count": 38,
   "metadata": {},
   "outputs": [],
   "source": [
    "correct_ratio_comp = pd.DataFrame()\n",
    "correct_ratio_comp = sen_pair_df.copy()\n",
    "correct_ratio_comp['DL_Binary_Correct_Ratio'] = dl_binary_df['DL_Binary_Correct_Ratio']\n",
    "correct_ratio_comp['Baseline_Correct_Ratio'] = baseline_df['Baseline_Correct_Ratio']"
   ]
  },
  {
   "cell_type": "code",
   "execution_count": 39,
   "metadata": {},
   "outputs": [
    {
     "data": {
      "text/html": [
       "<div>\n",
       "<style scoped>\n",
       "    .dataframe tbody tr th:only-of-type {\n",
       "        vertical-align: middle;\n",
       "    }\n",
       "\n",
       "    .dataframe tbody tr th {\n",
       "        vertical-align: top;\n",
       "    }\n",
       "\n",
       "    .dataframe thead th {\n",
       "        text-align: right;\n",
       "    }\n",
       "</style>\n",
       "<table border=\"1\" class=\"dataframe\">\n",
       "  <thead>\n",
       "    <tr style=\"text-align: right;\">\n",
       "      <th></th>\n",
       "      <th>DL_Sen_Pair_Correct_Ratio</th>\n",
       "      <th>DL_Binary_Correct_Ratio</th>\n",
       "      <th>Baseline_Correct_Ratio</th>\n",
       "    </tr>\n",
       "  </thead>\n",
       "  <tbody>\n",
       "    <tr>\n",
       "      <th>0</th>\n",
       "      <td>0.998</td>\n",
       "      <td>0.994</td>\n",
       "      <td>0.965</td>\n",
       "    </tr>\n",
       "    <tr>\n",
       "      <th>1</th>\n",
       "      <td>0.999</td>\n",
       "      <td>0.989</td>\n",
       "      <td>0.970</td>\n",
       "    </tr>\n",
       "    <tr>\n",
       "      <th>2</th>\n",
       "      <td>0.999</td>\n",
       "      <td>0.979</td>\n",
       "      <td>0.972</td>\n",
       "    </tr>\n",
       "    <tr>\n",
       "      <th>3</th>\n",
       "      <td>0.998</td>\n",
       "      <td>0.981</td>\n",
       "      <td>0.966</td>\n",
       "    </tr>\n",
       "    <tr>\n",
       "      <th>4</th>\n",
       "      <td>0.999</td>\n",
       "      <td>0.985</td>\n",
       "      <td>0.969</td>\n",
       "    </tr>\n",
       "    <tr>\n",
       "      <th>...</th>\n",
       "      <td>...</td>\n",
       "      <td>...</td>\n",
       "      <td>...</td>\n",
       "    </tr>\n",
       "    <tr>\n",
       "      <th>95</th>\n",
       "      <td>0.995</td>\n",
       "      <td>0.992</td>\n",
       "      <td>0.965</td>\n",
       "    </tr>\n",
       "    <tr>\n",
       "      <th>96</th>\n",
       "      <td>0.997</td>\n",
       "      <td>0.995</td>\n",
       "      <td>0.976</td>\n",
       "    </tr>\n",
       "    <tr>\n",
       "      <th>97</th>\n",
       "      <td>0.997</td>\n",
       "      <td>0.993</td>\n",
       "      <td>0.966</td>\n",
       "    </tr>\n",
       "    <tr>\n",
       "      <th>98</th>\n",
       "      <td>0.997</td>\n",
       "      <td>0.991</td>\n",
       "      <td>0.973</td>\n",
       "    </tr>\n",
       "    <tr>\n",
       "      <th>99</th>\n",
       "      <td>0.998</td>\n",
       "      <td>0.995</td>\n",
       "      <td>0.964</td>\n",
       "    </tr>\n",
       "  </tbody>\n",
       "</table>\n",
       "<p>100 rows × 3 columns</p>\n",
       "</div>"
      ],
      "text/plain": [
       "    DL_Sen_Pair_Correct_Ratio  DL_Binary_Correct_Ratio  Baseline_Correct_Ratio\n",
       "0                       0.998                    0.994                   0.965\n",
       "1                       0.999                    0.989                   0.970\n",
       "2                       0.999                    0.979                   0.972\n",
       "3                       0.998                    0.981                   0.966\n",
       "4                       0.999                    0.985                   0.969\n",
       "..                        ...                      ...                     ...\n",
       "95                      0.995                    0.992                   0.965\n",
       "96                      0.997                    0.995                   0.976\n",
       "97                      0.997                    0.993                   0.966\n",
       "98                      0.997                    0.991                   0.973\n",
       "99                      0.998                    0.995                   0.964\n",
       "\n",
       "[100 rows x 3 columns]"
      ]
     },
     "execution_count": 39,
     "metadata": {},
     "output_type": "execute_result"
    }
   ],
   "source": [
    "correct_ratio_comp"
   ]
  },
  {
   "cell_type": "code",
   "execution_count": 40,
   "metadata": {},
   "outputs": [],
   "source": [
    "correct_pred_comp = pd.DataFrame()\n",
    "correct_pred_comp['DL_Sentence_Pair_Classifier'] = sen_pair\n",
    "correct_pred_comp['Logistic_Regression'] = wrong_results\n",
    "correct_pred_comp['DL_Document_Classifier'] = dl_binary\n",
    "\n",
    "correct_pred_comp = correct_pred_comp.sample(frac=1).reset_index(drop=True)"
   ]
  },
  {
   "cell_type": "code",
   "execution_count": 42,
   "metadata": {},
   "outputs": [
    {
     "data": {
      "text/plain": [
       "(63, 5, 28)"
      ]
     },
     "execution_count": 42,
     "metadata": {},
     "output_type": "execute_result"
    }
   ],
   "source": [
    "correct_pred_comp['Logistic_Regression'].max(), correct_pred_comp['DL_Sentence_Pair_Classifier'].max(), correct_pred_comp['DL_Document_Classifier'].max()"
   ]
  },
  {
   "cell_type": "code",
   "execution_count": 43,
   "metadata": {},
   "outputs": [
    {
     "data": {
      "image/png": "[encoded data removed]",
      "text/plain": [
       "<Figure size 432x360 with 1 Axes>"
      ]
     },
     "metadata": {},
     "output_type": "display_data"
    }
   ],
   "source": [
    "plt.style.use('ggplot')\n",
    "correct_pred_comp.plot( y=[\"Logistic_Regression\", \"DL_Document_Classifier\", \"DL_Sentence_Pair_Classifier\"], figsize=(6,5),\n",
    "                        color=['royalblue', 'darkorange', 'green'], marker= 'o', ms=4)\n",
    "plt.ylim(-1, 80)\n",
    "plt.xlabel('Number of Experiments')\n",
    "plt.ylabel('Number of Wrong Prediction/1000 Comparisons')\n",
    "plt.tight_layout()\n",
    "plt.savefig('./results/model_comparison_evaluation')\n",
    "plt.show()"
   ]
  },
  {
   "cell_type": "code",
   "execution_count": 46,
   "metadata": {},
   "outputs": [
    {
     "data": {
      "image/png": "[encoded data removed]",
      "text/plain": [
       "<Figure size 432x360 with 1 Axes>"
      ]
     },
     "metadata": {},
     "output_type": "display_data"
    }
   ],
   "source": [
    "plt.style.use('ggplot')\n",
    "correct_pred_comp.plot(kind='bar', figsize=(6,5), color=['green','royalblue', 'darkorange'] , stacked=True);"
   ]
  },
  {
   "cell_type": "code",
   "execution_count": 47,
   "metadata": {},
   "outputs": [
    {
     "data": {
      "text/plain": [
       "RangeIndex(start=0, stop=100, step=1)"
      ]
     },
     "execution_count": 47,
     "metadata": {},
     "output_type": "execute_result"
    }
   ],
   "source": [
    "correct_pred_comp.index"
   ]
  },
  {
   "cell_type": "code",
   "execution_count": 5,
   "metadata": {},
   "outputs": [],
   "source": [
    "validation_data = pd.read_csv('./data/validation_data_classified.csv')"
   ]
  },
  {
   "cell_type": "code",
   "execution_count": 6,
   "metadata": {},
   "outputs": [
    {
     "data": {
      "text/html": [
       "<div>\n",
       "<style scoped>\n",
       "    .dataframe tbody tr th:only-of-type {\n",
       "        vertical-align: middle;\n",
       "    }\n",
       "\n",
       "    .dataframe tbody tr th {\n",
       "        vertical-align: top;\n",
       "    }\n",
       "\n",
       "    .dataframe thead th {\n",
       "        text-align: right;\n",
       "    }\n",
       "</style>\n",
       "<table border=\"1\" class=\"dataframe\">\n",
       "  <thead>\n",
       "    <tr style=\"text-align: right;\">\n",
       "      <th></th>\n",
       "      <th>comd_one</th>\n",
       "      <th>comd_two</th>\n",
       "      <th>output</th>\n",
       "    </tr>\n",
       "  </thead>\n",
       "  <tbody>\n",
       "    <tr>\n",
       "      <th>0</th>\n",
       "      <td>\"C:\\Windows\\system32\\sfc/scannow\"</td>\n",
       "      <td>\"C:\\Windows\\system32\\sfc/scannow\"</td>\n",
       "      <td>Similar</td>\n",
       "    </tr>\n",
       "    <tr>\n",
       "      <th>1</th>\n",
       "      <td>\"C:\\Windows\\system32\\sfc/scannow\"</td>\n",
       "      <td>\"C:\\Windows\\system32\\netstat\" -b</td>\n",
       "      <td>Not-Similar</td>\n",
       "    </tr>\n",
       "    <tr>\n",
       "      <th>2</th>\n",
       "      <td>\"C:\\Windows\\system32\\sfc/scannow\"</td>\n",
       "      <td>\"C:\\Windows\\system32\\getmac\"</td>\n",
       "      <td>Not-Similar</td>\n",
       "    </tr>\n",
       "    <tr>\n",
       "      <th>3</th>\n",
       "      <td>\"C:\\Windows\\system32\\sfc/scannow\"</td>\n",
       "      <td>\"C:\\Windows\\system32\\robocopy\" \"c:users \" flar...</td>\n",
       "      <td>Not-Similar</td>\n",
       "    </tr>\n",
       "    <tr>\n",
       "      <th>4</th>\n",
       "      <td>\"C:\\Windows\\system32\\sfc/scannow\"</td>\n",
       "      <td>\"C:\\Windows\\system32\\hostname\"</td>\n",
       "      <td>Not-Similar</td>\n",
       "    </tr>\n",
       "    <tr>\n",
       "      <th>...</th>\n",
       "      <td>...</td>\n",
       "      <td>...</td>\n",
       "      <td>...</td>\n",
       "    </tr>\n",
       "    <tr>\n",
       "      <th>1535</th>\n",
       "      <td>\"C:\\WINDOWS\\System32\\Upfc.exe\" /launchtype per...</td>\n",
       "      <td>\"C:\\Program Files\\Amazon\\AWSCLIV2\\aws.exe\" cli</td>\n",
       "      <td>Not-Similar</td>\n",
       "    </tr>\n",
       "    <tr>\n",
       "      <th>1536</th>\n",
       "      <td>\"C:\\WINDOWS\\System32\\Upfc.exe\" /launchtype per...</td>\n",
       "      <td>\"C:\\Program Files\\Amazon\\AWSCLIV2\\aws.exe\" con...</td>\n",
       "      <td>Not-Similar</td>\n",
       "    </tr>\n",
       "    <tr>\n",
       "      <th>1537</th>\n",
       "      <td>\"C:\\Program Files\\Amazon\\AWSCLIV2\\aws.exe\" cli</td>\n",
       "      <td>\"C:\\Program Files\\Amazon\\AWSCLIV2\\aws.exe\" cli</td>\n",
       "      <td>Similar</td>\n",
       "    </tr>\n",
       "    <tr>\n",
       "      <th>1538</th>\n",
       "      <td>\"C:\\Program Files\\Amazon\\AWSCLIV2\\aws.exe\" cli</td>\n",
       "      <td>\"C:\\Program Files\\Amazon\\AWSCLIV2\\aws.exe\" con...</td>\n",
       "      <td>Similar</td>\n",
       "    </tr>\n",
       "    <tr>\n",
       "      <th>1539</th>\n",
       "      <td>\"C:\\Program Files\\Amazon\\AWSCLIV2\\aws.exe\" con...</td>\n",
       "      <td>\"C:\\Program Files\\Amazon\\AWSCLIV2\\aws.exe\" con...</td>\n",
       "      <td>Similar</td>\n",
       "    </tr>\n",
       "  </tbody>\n",
       "</table>\n",
       "<p>1540 rows × 3 columns</p>\n",
       "</div>"
      ],
      "text/plain": [
       "                                               comd_one  \\\n",
       "0                    \"C:\\Windows\\system32\\sfc/scannow\"    \n",
       "1                    \"C:\\Windows\\system32\\sfc/scannow\"    \n",
       "2                    \"C:\\Windows\\system32\\sfc/scannow\"    \n",
       "3                    \"C:\\Windows\\system32\\sfc/scannow\"    \n",
       "4                    \"C:\\Windows\\system32\\sfc/scannow\"    \n",
       "...                                                 ...   \n",
       "1535  \"C:\\WINDOWS\\System32\\Upfc.exe\" /launchtype per...   \n",
       "1536  \"C:\\WINDOWS\\System32\\Upfc.exe\" /launchtype per...   \n",
       "1537    \"C:\\Program Files\\Amazon\\AWSCLIV2\\aws.exe\" cli    \n",
       "1538    \"C:\\Program Files\\Amazon\\AWSCLIV2\\aws.exe\" cli    \n",
       "1539  \"C:\\Program Files\\Amazon\\AWSCLIV2\\aws.exe\" con...   \n",
       "\n",
       "                                               comd_two       output  \n",
       "0                    \"C:\\Windows\\system32\\sfc/scannow\"       Similar  \n",
       "1                    \"C:\\Windows\\system32\\netstat\" -b    Not-Similar  \n",
       "2                         \"C:\\Windows\\system32\\getmac\"   Not-Similar  \n",
       "3     \"C:\\Windows\\system32\\robocopy\" \"c:users \" flar...  Not-Similar  \n",
       "4                       \"C:\\Windows\\system32\\hostname\"   Not-Similar  \n",
       "...                                                 ...          ...  \n",
       "1535    \"C:\\Program Files\\Amazon\\AWSCLIV2\\aws.exe\" cli   Not-Similar  \n",
       "1536  \"C:\\Program Files\\Amazon\\AWSCLIV2\\aws.exe\" con...  Not-Similar  \n",
       "1537    \"C:\\Program Files\\Amazon\\AWSCLIV2\\aws.exe\" cli       Similar  \n",
       "1538  \"C:\\Program Files\\Amazon\\AWSCLIV2\\aws.exe\" con...      Similar  \n",
       "1539  \"C:\\Program Files\\Amazon\\AWSCLIV2\\aws.exe\" con...      Similar  \n",
       "\n",
       "[1540 rows x 3 columns]"
      ]
     },
     "execution_count": 6,
     "metadata": {},
     "output_type": "execute_result"
    }
   ],
   "source": [
    "validation_data"
   ]
  },
  {
   "cell_type": "code",
   "execution_count": 19,
   "metadata": {},
   "outputs": [],
   "source": [
    "sim_total = 0\n",
    "not_sim_total = 0\n",
    "wrong_total=0\n",
    "for j in range(len(validation_data)):\n",
    "    comd_one = validation_data.loc[j]['comd_one']\n",
    "    comd_two = validation_data.loc[j]['comd_two']\n",
    "    result = validation_data.loc[j]['output']\n",
    "    pred_result = test_comds(comd_one, comd_two)\n",
    "    if result==pred_result and result=='Similar':\n",
    "        sim_total+=1\n",
    "    elif result==pred_result and result=='Not-Similar':\n",
    "        not_sim_total+=1\n",
    "    else:\n",
    "        wrong_total+=1   "
   ]
  }
 ],
 "metadata": {
  "kernelspec": {
   "display_name": "Python 3",
   "language": "python",
   "name": "python3"
  },
  "language_info": {
   "codemirror_mode": {
    "name": "ipython",
    "version": 3
   },
   "file_extension": ".py",
   "mimetype": "text/x-python",
   "name": "python",
   "nbconvert_exporter": "python",
   "pygments_lexer": "ipython3",
   "version": "3.7.7"
  }
 },
 "nbformat": 4,
 "nbformat_minor": 4
}
